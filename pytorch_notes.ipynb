{
 "cells": [
  {
   "cell_type": "markdown",
   "id": "c62cbab2-d407-4864-a075-0ee77e4cd5bf",
   "metadata": {},
   "source": [
    "# A tutorial notes for Pytorch\n"
   ]
  },
  {
   "cell_type": "markdown",
   "id": "3a42d54b-7a52-4d9d-a3c4-482dd0f5b17a",
   "metadata": {},
   "source": [
    "References:\n",
    "1. https://pytorch.org/tutorials/beginner/basics/intro.html\n"
   ]
  },
  {
   "cell_type": "markdown",
   "id": "bbb19d4c-fc57-46a0-8b3b-814ce3638d78",
   "metadata": {},
   "source": [
    "## introduction"
   ]
  },
  {
   "cell_type": "markdown",
   "id": "33e6c9a2-7f6a-41b3-90ce-37cd918ef4f7",
   "metadata": {},
   "source": [
    "A introduction about the basics"
   ]
  },
  {
   "cell_type": "markdown",
   "id": "f4a20ede-d1b6-43ef-a755-ada2a8e5bfb3",
   "metadata": {},
   "source": [
    "### Tensors"
   ]
  },
  {
   "cell_type": "markdown",
   "id": "d6defad5-fd7c-43c4-9efb-8ee2d5760329",
   "metadata": {},
   "source": [
    "what: \n",
    "\n",
    "A data structure to encode the inputs, outputs, and parameters of a model, which is similar to arrays and matrices.\n",
    "\n",
    "why: \n",
    "1. Tensors can run on GPUs or other hardware accelerators.\n",
    "2. Tensors share the same underlying memory with Numpy array, eliminating the need to copy data\n",
    "3. Tensors are optimized for automatic differentiation."
   ]
  },
  {
   "cell_type": "code",
   "execution_count": 2,
   "id": "c31d41bd-3938-42b2-86bf-bc3b760217e9",
   "metadata": {},
   "outputs": [],
   "source": [
    "import torch\n",
    "import numpy as np"
   ]
  },
  {
   "cell_type": "markdown",
   "id": "4719cb73-dd7a-4534-9510-0a6b4258c188",
   "metadata": {},
   "source": [
    "#### Initalize a tensor"
   ]
  },
  {
   "cell_type": "code",
   "execution_count": 2,
   "id": "8338a661-990f-4885-9499-38a2cb0e896d",
   "metadata": {},
   "outputs": [],
   "source": [
    "# from data\n",
    "data = [[1,2],[3,4]]\n",
    "x_data = torch.tensor(data)"
   ]
  },
  {
   "cell_type": "code",
   "execution_count": 3,
   "id": "3984010e-54b8-431e-9ea9-4affa96cdf16",
   "metadata": {},
   "outputs": [
    {
     "data": {
      "text/plain": [
       "tensor([[1, 2],\n",
       "        [3, 4]])"
      ]
     },
     "execution_count": 3,
     "metadata": {},
     "output_type": "execute_result"
    }
   ],
   "source": [
    "x_data"
   ]
  },
  {
   "cell_type": "code",
   "execution_count": 5,
   "id": "817b016f-5b9f-46d4-93bf-5e61851e9e40",
   "metadata": {},
   "outputs": [],
   "source": [
    "# from a Numpy array\n",
    "np_array = np.array(data)\n",
    "x_np = torch.from_numpy(np_array)"
   ]
  },
  {
   "cell_type": "code",
   "execution_count": 6,
   "id": "a0a7a848-6b2a-4475-95d6-a85f47be51ca",
   "metadata": {},
   "outputs": [
    {
     "data": {
      "text/plain": [
       "tensor([[1, 2],\n",
       "        [3, 4]])"
      ]
     },
     "execution_count": 6,
     "metadata": {},
     "output_type": "execute_result"
    }
   ],
   "source": [
    "x_np"
   ]
  },
  {
   "cell_type": "code",
   "execution_count": 8,
   "id": "76026ad4-4061-4a29-a240-583d8bce2615",
   "metadata": {},
   "outputs": [
    {
     "name": "stdout",
     "output_type": "stream",
     "text": [
      "Ones Tensor: \n",
      " tensor([[1, 1],\n",
      "        [1, 1]])\n",
      "\n",
      "Ones Tensor: \n",
      " tensor([[0.7721, 0.0448],\n",
      "        [0.3881, 0.6359]])\n",
      "\n"
     ]
    }
   ],
   "source": [
    "# from another tensor, which keeps shape, datatype unless explicitly overridden.\n",
    "\n",
    "# retain the properties of x_data\n",
    "x_ones = torch.ones_like(x_data)\n",
    "print(f\"Ones Tensor: \\n {x_ones}\\n\")\n",
    "\n",
    "# overrides the datatype of x_data\n",
    "x_rand = torch.rand_like(x_data, dtype = torch.float) \n",
    "print(f\"Ones Tensor: \\n {x_rand}\\n\")"
   ]
  },
  {
   "cell_type": "code",
   "execution_count": 12,
   "id": "340763b3-31b2-4d6d-9a46-15cba78ec00c",
   "metadata": {},
   "outputs": [
    {
     "name": "stdout",
     "output_type": "stream",
     "text": [
      "Random Tensor: \n",
      " tensor([[0.2999, 0.4976, 0.9669],\n",
      "        [0.3437, 0.3316, 0.7742]]) \n",
      "\n",
      "Ones Tensor: \n",
      " tensor([[1., 1., 1.],\n",
      "        [1., 1., 1.]]) \n",
      "\n",
      "Random Tensor: \n",
      " tensor([[0., 0., 0.],\n",
      "        [0., 0., 0.]]) \n",
      "\n"
     ]
    }
   ],
   "source": [
    "# with shape \n",
    "shape = (2,3,)\n",
    "rand_tensor = torch.rand(shape)\n",
    "ones_tensor = torch.ones(shape)\n",
    "zeros_tensor = torch.zeros(shape)\n",
    "\n",
    "print(f\"Random Tensor: \\n {rand_tensor} \\n\")\n",
    "print(f\"Ones Tensor: \\n {ones_tensor} \\n\")\n",
    "print(f\"Random Tensor: \\n {zeros_tensor} \\n\")\n"
   ]
  },
  {
   "cell_type": "code",
   "execution_count": 14,
   "id": "903297a8-52db-4ca7-8649-d19961e728c3",
   "metadata": {},
   "outputs": [
    {
     "name": "stdout",
     "output_type": "stream",
     "text": [
      "Shape of tensor:torch.Size([3, 4])\n",
      "Datatype of tensor:torch.float32\n",
      "Device tensor is stored on:cpu\n"
     ]
    }
   ],
   "source": [
    "# attributes\n",
    "tensor = torch.rand(3,4)\n",
    "\n",
    "print(f\"Shape of tensor:{tensor.shape}\")\n",
    "print(f\"Datatype of tensor:{tensor.dtype}\")\n",
    "print(f\"Device tensor is stored on:{tensor.device}\")"
   ]
  },
  {
   "cell_type": "markdown",
   "id": "1c1ec237-255d-4185-88ea-ef1045c4ed90",
   "metadata": {},
   "source": [
    "By default, tensors are created on the CPU.\n",
    "\n",
    "Copying large tensors across devices can be expensive in terms of time and memory!"
   ]
  },
  {
   "cell_type": "code",
   "execution_count": 15,
   "id": "b4be5354-e6ac-487e-8fe4-ce81686bdfd5",
   "metadata": {},
   "outputs": [],
   "source": [
    "if torch.cuda.is_available():\n",
    "    tensor = tensor.to('cuda')"
   ]
  },
  {
   "cell_type": "code",
   "execution_count": 18,
   "id": "2c313415-4e6f-4bd7-88de-be0dfc85ea09",
   "metadata": {},
   "outputs": [
    {
     "data": {
      "text/plain": [
       "device(type='cuda', index=0)"
      ]
     },
     "execution_count": 18,
     "metadata": {},
     "output_type": "execute_result"
    }
   ],
   "source": [
    "tensor.device"
   ]
  },
  {
   "cell_type": "code",
   "execution_count": 32,
   "id": "bccc1d22-d0de-4223-a56b-200808ce32b0",
   "metadata": {},
   "outputs": [
    {
     "name": "stdout",
     "output_type": "stream",
     "text": [
      "t: tensor([1., 1., 1., 1., 1.])\n",
      "n: [1. 1. 1. 1. 1.]\n"
     ]
    }
   ],
   "source": [
    "# bridge with Numpy (share the memory)\n",
    "t = torch.ones(5)\n",
    "print(f\"t: {t}\")\n",
    "n = t.numpy()\n",
    "print(f\"n: {n}\")"
   ]
  },
  {
   "cell_type": "code",
   "execution_count": 33,
   "id": "59fe2dd3-0813-4d96-94c5-3b0d7f42d74b",
   "metadata": {},
   "outputs": [
    {
     "name": "stdout",
     "output_type": "stream",
     "text": [
      "t: tensor([2., 2., 2., 2., 2.])\n",
      "n: [2. 2. 2. 2. 2.]\n"
     ]
    }
   ],
   "source": [
    "t.add_(1)\n",
    "print(f\"t: {t}\")\n",
    "print(f\"n: {n}\")"
   ]
  },
  {
   "cell_type": "code",
   "execution_count": 34,
   "id": "d4fb1752-f9fa-4713-9376-1d85d5d643b7",
   "metadata": {},
   "outputs": [
    {
     "name": "stdout",
     "output_type": "stream",
     "text": [
      "t: tensor([2., 2., 2., 2., 2.], dtype=torch.float64)\n",
      "n: [2. 2. 2. 2. 2.]\n"
     ]
    }
   ],
   "source": [
    "# same for (numpy->torch tensor)\n",
    "n = np.ones(5)\n",
    "t = torch.from_numpy(n)\n",
    "\n",
    "np.add(n,1,out=n)\n",
    "print(f\"t: {t}\")\n",
    "print(f\"n: {n}\")"
   ]
  },
  {
   "cell_type": "markdown",
   "id": "634eee44-86bc-4585-b610-9e0ac623d685",
   "metadata": {},
   "source": [
    "#### Operations"
   ]
  },
  {
   "cell_type": "code",
   "execution_count": 22,
   "id": "88e8a167-c1b5-42ac-baf1-1423b410b692",
   "metadata": {},
   "outputs": [
    {
     "name": "stdout",
     "output_type": "stream",
     "text": [
      "First row:  tensor([1., 1., 1., 1.])\n",
      "First column:  tensor([1., 1., 1., 1.])\n",
      "Last column:  tensor([1., 1., 1., 1.])\n",
      "tensor([[1., 1., 1., 0.],\n",
      "        [1., 1., 1., 0.],\n",
      "        [1., 1., 1., 0.],\n",
      "        [1., 1., 1., 0.]])\n"
     ]
    }
   ],
   "source": [
    "tensor = torch.ones(4,4)\n",
    "print('First row: ', tensor[0])\n",
    "print('First column: ', tensor[:, 0])\n",
    "print('Last column: ' , tensor[...,-1])\n",
    "tensor[:, -1] = 0\n",
    "print(tensor)"
   ]
  },
  {
   "cell_type": "code",
   "execution_count": 23,
   "id": "2ec189d5-f4de-490d-87c9-3f6851d30d65",
   "metadata": {},
   "outputs": [
    {
     "name": "stdout",
     "output_type": "stream",
     "text": [
      "tensor([[1., 1., 1., 0., 1., 1., 1., 0., 1., 1., 1., 0.],\n",
      "        [1., 1., 1., 0., 1., 1., 1., 0., 1., 1., 1., 0.],\n",
      "        [1., 1., 1., 0., 1., 1., 1., 0., 1., 1., 1., 0.],\n",
      "        [1., 1., 1., 0., 1., 1., 1., 0., 1., 1., 1., 0.]])\n"
     ]
    }
   ],
   "source": [
    "# Joining tensors\n",
    "t1 = torch.cat([tensor,tensor,tensor], dim = 1)\n",
    "print(t1)"
   ]
  },
  {
   "cell_type": "code",
   "execution_count": 27,
   "id": "016dfcb7-4e5b-4f67-9920-71375649b74c",
   "metadata": {},
   "outputs": [
    {
     "name": "stdout",
     "output_type": "stream",
     "text": [
      "y1: \n",
      "tensor([[3., 3., 3., 3.],\n",
      "        [3., 3., 3., 3.],\n",
      "        [3., 3., 3., 3.],\n",
      "        [3., 3., 3., 3.]])\n",
      "\n",
      "y2: \n",
      "tensor([[3., 3., 3., 3.],\n",
      "        [3., 3., 3., 3.],\n",
      "        [3., 3., 3., 3.],\n",
      "        [3., 3., 3., 3.]])\n",
      "\n",
      "y3: \n",
      "tensor([[3., 3., 3., 3.],\n",
      "        [3., 3., 3., 3.],\n",
      "        [3., 3., 3., 3.],\n",
      "        [3., 3., 3., 3.]])\n",
      "\n"
     ]
    }
   ],
   "source": [
    "# arithmetic operations\n",
    "# y1 = y2 = y3\n",
    "y1 = tensor @ tensor.T\n",
    "y2 = tensor.matmul(tensor.T)\n",
    "y3 = torch.rand_like(tensor)\n",
    "torch.matmul(tensor,tensor.T,out=y3)\n",
    "# matrix multiplication\n",
    "print(f'y1: \\n{y1}\\n')\n",
    "print(f'y2: \\n{y2}\\n')\n",
    "print(f'y3: \\n{y3}\\n')"
   ]
  },
  {
   "cell_type": "code",
   "execution_count": 28,
   "id": "5f643e0e-1c79-467e-a73f-ca1e637ccb8f",
   "metadata": {},
   "outputs": [
    {
     "data": {
      "text/plain": [
       "tensor([[1., 1., 1., 0.],\n",
       "        [1., 1., 1., 0.],\n",
       "        [1., 1., 1., 0.],\n",
       "        [1., 1., 1., 0.]])"
      ]
     },
     "execution_count": 28,
     "metadata": {},
     "output_type": "execute_result"
    }
   ],
   "source": [
    "# element-wise product\n",
    "# z1, z2, z3 have the same value\n",
    "z1 = tensor * tensor\n",
    "\n",
    "z2 = tensor.mul(tensor)\n",
    "\n",
    "z3 = torch.rand_like(tensor)\n",
    "torch.mul(tensor,tensor,out=z3)"
   ]
  },
  {
   "cell_type": "code",
   "execution_count": 29,
   "id": "a57dce5b-462e-47e0-869e-8d081ee2fc61",
   "metadata": {},
   "outputs": [
    {
     "data": {
      "text/plain": [
       "tensor(12.)"
      ]
     },
     "execution_count": 29,
     "metadata": {},
     "output_type": "execute_result"
    }
   ],
   "source": [
    "# single-element\n",
    "agg = tensor.sum()\n",
    "agg"
   ]
  },
  {
   "cell_type": "code",
   "execution_count": 30,
   "id": "fca9cd1e-216c-4a77-9e87-b10a073725de",
   "metadata": {},
   "outputs": [
    {
     "name": "stdout",
     "output_type": "stream",
     "text": [
      "12.0 <class 'float'>\n"
     ]
    }
   ],
   "source": [
    "# to python numerical value\n",
    "print(agg.item(), type(agg.item()))"
   ]
  },
  {
   "cell_type": "code",
   "execution_count": 31,
   "id": "883e56a5-2005-4351-a2ef-8841fe3146ae",
   "metadata": {},
   "outputs": [
    {
     "name": "stdout",
     "output_type": "stream",
     "text": [
      "tensor([[1., 1., 1., 0.],\n",
      "        [1., 1., 1., 0.],\n",
      "        [1., 1., 1., 0.],\n",
      "        [1., 1., 1., 0.]]) \n",
      "\n",
      "tensor([[6., 6., 6., 5.],\n",
      "        [6., 6., 6., 5.],\n",
      "        [6., 6., 6., 5.],\n",
      "        [6., 6., 6., 5.]])\n"
     ]
    }
   ],
   "source": [
    "# in-place operations denoted by _suffix\n",
    "print(tensor,\"\\n\")\n",
    "tensor.add_(5)\n",
    "print(tensor)"
   ]
  },
  {
   "cell_type": "markdown",
   "id": "4755d453-6933-46d3-8ffe-f53c13be41d2",
   "metadata": {},
   "source": [
    "In-place can save memory, but immediate loss of history will bring troubles in computing derivatives."
   ]
  },
  {
   "cell_type": "markdown",
   "id": "88155093-0f0d-4873-a3a9-821c3a497a59",
   "metadata": {},
   "source": [
    "### Datasets & DataLoaders"
   ]
  },
  {
   "cell_type": "markdown",
   "id": "54970498-c4fd-433e-a6b7-e5fdf4be6630",
   "metadata": {},
   "source": [
    "What:\n",
    "\n",
    "Dataset: it stores the samples and their corresponding labels.\n",
    "\n",
    "DataLoader: it wraps an iterable around the Dataset to enable easy access to the samples. \n",
    "\n",
    "Why:\n",
    "\n",
    "1. Maintain code for processing data by decoupling it from model training code to provide better readability and modularity.\n",
    "2. PyTorch domain libraries provide a number of pre-loaded datasets and functions, which can be accessed by Datasets and DataLoaders."
   ]
  },
  {
   "cell_type": "markdown",
   "id": "b899cedc-e3de-4a68-b174-b6790057cbb3",
   "metadata": {},
   "source": [
    "#### Load a dataset"
   ]
  },
  {
   "cell_type": "code",
   "execution_count": 1,
   "id": "40e28d43-ac04-4a93-a2d1-5d6dbdd5af13",
   "metadata": {
    "tags": []
   },
   "outputs": [],
   "source": [
    "import torch\n",
    "# FashionMNIST Dataset\n",
    "from torch.utils.data import Dataset\n",
    "from torchvision import datasets\n",
    "from torchvision.transforms import ToTensor\n",
    "import matplotlib.pyplot as plt\n",
    "\n",
    "training_data = datasets.FashionMNIST(\n",
    "    root = \"data\", # show the path where train/test data is stored\n",
    "    train = True, # specify training or test dataset\n",
    "    download = True, # download the data from the internet if it's not available at root\n",
    "    transform = ToTensor() # specify the feature and label transformations\n",
    ")\n",
    "\n",
    "test_data = datasets.FashionMNIST(\n",
    "    root = \"data\", # show the path where train/test data is stored\n",
    "    train = False, # specify training or test dataset\n",
    "    download = True, # download the data from the internet if it's not available at root\n",
    "    transform = ToTensor() # specify the feature and label transformations\n",
    ")\n"
   ]
  },
  {
   "cell_type": "code",
   "execution_count": 45,
   "id": "f748aec0-2a46-4ce1-8f26-949291a16c15",
   "metadata": {
    "tags": []
   },
   "outputs": [],
   "source": [
    "img, label = training_data[2]"
   ]
  },
  {
   "cell_type": "code",
   "execution_count": 47,
   "id": "fbb34433-1c98-4fbd-9b38-a538e49b9468",
   "metadata": {},
   "outputs": [
    {
     "data": {
      "text/plain": [
       "torch.Size([1, 28, 28])"
      ]
     },
     "execution_count": 47,
     "metadata": {},
     "output_type": "execute_result"
    }
   ],
   "source": [
    "img.shape"
   ]
  },
  {
   "cell_type": "code",
   "execution_count": 51,
   "id": "a6eb4a30-ab16-4d96-bc47-7547e22a67b4",
   "metadata": {
    "tags": []
   },
   "outputs": [
    {
     "data": {
      "text/plain": [
       "torch.Size([28, 28])"
      ]
     },
     "execution_count": 51,
     "metadata": {},
     "output_type": "execute_result"
    }
   ],
   "source": [
    "# https://pytorch.org/docs/stable/generated/torch.squeeze.html\n",
    "img.squeeze().shape # Returns a tensor with all the dimensions of input of size 1 removed."
   ]
  },
  {
   "cell_type": "code",
   "execution_count": 49,
   "id": "641c893d-dab5-4463-a140-6f6cea21097f",
   "metadata": {},
   "outputs": [
    {
     "data": {
      "text/plain": [
       "0"
      ]
     },
     "execution_count": 49,
     "metadata": {},
     "output_type": "execute_result"
    }
   ],
   "source": [
    "label"
   ]
  },
  {
   "cell_type": "markdown",
   "id": "316fff5f-dd49-4951-acc7-d4c51c358935",
   "metadata": {},
   "source": [
    "#### visualize by map"
   ]
  },
  {
   "cell_type": "code",
   "execution_count": 2,
   "id": "615e23dd-6cff-48cc-ad1a-c7f4452ae67a",
   "metadata": {
    "tags": []
   },
   "outputs": [
    {
     "data": {
      "image/png": "[encoded data removed]",
      "text/plain": [
       "<Figure size 576x576 with 9 Axes>"
      ]
     },
     "metadata": {
      "needs_background": "light"
     },
     "output_type": "display_data"
    }
   ],
   "source": [
    "labels_map = {\n",
    "    0:\"T-Shirt\",\n",
    "    1:\"Trouser\",\n",
    "    2:\"Pullover\",\n",
    "    3:\"Dress\",\n",
    "    4:\"Coat\",\n",
    "    5:\"Sandal\",\n",
    "    6:\"Shirt\",\n",
    "    7:\"Sneaker\",\n",
    "    8:\"Bag\",\n",
    "    9:\"Ankle Boot\",\n",
    "}\n",
    "\n",
    "figure = plt.figure(figsize=(8,8))\n",
    "cols, rows = 3, 3\n",
    "for i in range(1, cols*rows + 1):\n",
    "    sample_idx = torch.randint(len(training_data), size=(1,)).item() # generate a sample index ranging from [0, len(training_data)) randomly.\n",
    "    img, label = training_data[sample_idx] # select a random training sample based on id above.\n",
    "    figure.add_subplot(rows, cols, i) # i -> for-loop starts from index 1.\n",
    "    plt.title(labels_map[label])\n",
    "    plt.axis('off')\n",
    "    plt.imshow(img.squeeze(), cmap='gray') # channel one is unneccessary when it comes to displaying.\n",
    "plt.show()"
   ]
  },
  {
   "cell_type": "markdown",
   "id": "4f8c7154-fac0-4f1a-b6d1-e6638572c78d",
   "metadata": {},
   "source": [
    "#### Create a custom dataset"
   ]
  },
  {
   "cell_type": "markdown",
   "id": "67c65d86-0966-4789-93ca-3bb52e3024fe",
   "metadata": {},
   "source": [
    "Dataset class must implement three functions: __init__, __len__, and __getitem__."
   ]
  },
  {
   "cell_type": "code",
   "execution_count": 4,
   "id": "a70d35c6-989c-43db-b38d-79e2eb51fee9",
   "metadata": {},
   "outputs": [],
   "source": [
    "import os\n",
    "import pandas as pd\n",
    "from torchvision.io import read_image\n",
    "\n",
    "# by torch.util.data.Dataset\n",
    "class CustomImageDataset(Dataset):\n",
    "    # initialize a dataset object with directory containing the images, the annotations file, and both transforms.\n",
    "    def __init__(self, annotations_file, img_dir, transform = None, target_transform=None):\n",
    "        # csv files contains annotations seperated by ',' \n",
    "        # like \n",
    "        # tshirt1.jpg, 0\n",
    "        # tshirt2.jpg, 0\n",
    "        # ...\n",
    "        # ankleboot99.jpg, 9\n",
    "        # the first is image's annotation, and the second is its corresponding label idx.\n",
    "        self.img_labels = pd.read_csv(annotations_file) \n",
    "        self.img_dir = img_dir\n",
    "        self.transform = transform\n",
    "        self.target_transform = target_transform\n",
    "    \n",
    "    # the __len__ function returns the number of samples in dataset.\n",
    "    def __len__(self):\n",
    "        return len(self.img_labels)\n",
    "    \n",
    "    # the __getitem__ function loads and returns a sample from the dataset at the given index idx.\n",
    "    def __getitem__(self, idx):\n",
    "        # locate a image by joining the file' annotation and its parent.\n",
    "        img_path = os.path.join(self.img_dir, self.img_labels.iloc[idx, 0])\n",
    "        # torchvision.io.read_image converts the image to a tensor.\n",
    "        image = read_image(img_path)\n",
    "        # retrieve the image's corresponding label.\n",
    "        label = self.img_labels.iloc[idx, 1]\n",
    "        # if applicable, call the transform functions on the image and the label.\n",
    "        if self.transform:\n",
    "            image = self.transform(image)\n",
    "        if self.target_transform:\n",
    "            label = self.target_transform(label)\n",
    "        return image, label\n",
    "    \n",
    "        "
   ]
  },
  {
   "cell_type": "markdown",
   "id": "dd470f34-ceee-4c42-a1c4-0f2db2ccc1af",
   "metadata": {},
   "source": [
    "* Typically, when training a model, we want to pass samples in \"minibatches\", reshuffle the data at every epoch to reduce model overfitting, and \n",
    "  use Python's multiprocessing to speed up data retrieval.\n",
    "\n",
    "* Compared with torch.util.dataDataset retrieving dataset's features and labels one sample at a time, torch.util.data.DataLoader is an iterable that provides an easy-to-use\n",
    "  \"minibatches\" way and abstracts this complexity."
   ]
  },
  {
   "cell_type": "code",
   "execution_count": 5,
   "id": "f240c8a9-481b-405b-8bd0-bb65b5f9c562",
   "metadata": {},
   "outputs": [],
   "source": [
    "from torch.utils.data import DataLoader\n",
    "\n",
    "# Each iteration returns a batch of train_features and train_labels\n",
    "train_dataloader = DataLoader(training_data, batch_size=64, shuffle=True)\n",
    "test_dataloader = DataLoader(test_data, batch_size=64, shuffle=True)"
   ]
  },
  {
   "cell_type": "code",
   "execution_count": 6,
   "id": "a8280ea4-c2d6-4476-aae5-d2339691ebd4",
   "metadata": {},
   "outputs": [
    {
     "name": "stdout",
     "output_type": "stream",
     "text": [
      "Feature batch shape: torch.Size([64, 1, 28, 28])\n",
      "Labels batch shape: torch.Size([64])\n"
     ]
    },
    {
     "data": {
      "image/png": "[encoded data removed]",
      "text/plain": [
       "<Figure size 432x288 with 1 Axes>"
      ]
     },
     "metadata": {
      "needs_background": "light"
     },
     "output_type": "display_data"
    },
    {
     "name": "stdout",
     "output_type": "stream",
     "text": [
      "label:6\n"
     ]
    }
   ],
   "source": [
    "# iterate through the DataLoader\n",
    "train_features, train_labels = next(iter(train_dataloader))\n",
    "print(f\"Feature batch shape: {train_features.size()}\")\n",
    "print(f\"Labels batch shape: {train_labels.size()}\")\n",
    "# show one from the batch\n",
    "img = train_features[0].squeeze()\n",
    "label = train_labels[0]\n",
    "plt.imshow(img, cmap = 'gray')\n",
    "plt.show()\n",
    "print(f\"label:{label}\")"
   ]
  },
  {
   "cell_type": "markdown",
   "id": "2bd43169-eab5-415a-a705-78e0cdc4d434",
   "metadata": {},
   "source": [
    "### Transforms"
   ]
  },
  {
   "cell_type": "markdown",
   "id": "901658fa-0659-45ab-97b4-f33ee00fdc1d",
   "metadata": {},
   "source": [
    "Use transforms to perform some manipulation of the data and make it suitable for training.\n",
    "\n",
    "what:\n",
    "\n",
    "All TorchVision datasets have two parameters -\n",
    "1. transform to modify the features. \n",
    "2. target_transform to modify the labels.\n",
    "\n",
    "Why:\n",
    "\n",
    "We need the features as normalized tensors, and the labels as one-hot encoded tensors."
   ]
  },
  {
   "cell_type": "code",
   "execution_count": 7,
   "id": "fa3cdeca-3ce8-4116-892a-929ebdcbb9e0",
   "metadata": {},
   "outputs": [],
   "source": [
    "import torch\n",
    "from torchvision import datasets\n",
    "from torchvision.transforms import ToTensor, Lambda\n",
    "\n",
    "ds = datasets.FashionMNIST(\n",
    "    root = \"data\",\n",
    "    train = True,\n",
    "    download = True,\n",
    "    # Convert a PIL image or Numpy ndarray into a FloatTensor,and scales the image's pixel intensity values in the range [0.,1.]\n",
    "    transform = ToTensor(),\n",
    "    # create a zero tensor of size 10, and calls scatter_ which assigns a value=1 on the index given by y.\n",
    "    target_transform = Lambda(lambda y: torch.zeros(10, dtype = torch.float).scatter_(0,torch.tensor(y), value=1))\n",
    ")"
   ]
  },
  {
   "cell_type": "markdown",
   "id": "896f0c17-24a7-48be-8152-885dd1a6f9b7",
   "metadata": {},
   "source": [
    "The transformations accept both tensor images and batches of tensor images.\n",
    "\n",
    "* Tensor images (C, H, W) where C means channels\n",
    "* A batch of tensor images (B, C, H, W) where B is the number of images in the batch\n",
    "\n",
    "Torchvision.transform will apply the same transformation to all the images of a given batch, but reproducible transformations need functional transforms.  "
   ]
  },
  {
   "cell_type": "markdown",
   "id": "dfb2fb81-9cd0-4f75-a64f-62f9b427999a",
   "metadata": {},
   "source": [
    "ToTensor():\n",
    "\n",
    "Convert a PIL image or Numpy ndarray into a FloatTensor,and scales the image's pixel intensity values in the range [0.,1.]"
   ]
  },
  {
   "cell_type": "markdown",
   "id": "a05625da-422e-488d-8cce-dae9cc2ba280",
   "metadata": {},
   "source": [
    "Lambda Transforms:\n",
    "\n",
    "Apply any user-defined lambda function."
   ]
  },
  {
   "cell_type": "markdown",
   "id": "49d779d1-9720-4831-919a-08c67b61a2b0",
   "metadata": {
    "tags": []
   },
   "source": [
    "### Build the neural network"
   ]
  },
  {
   "cell_type": "markdown",
   "id": "b240746f-2073-407f-b7e4-7e4ec0697ec6",
   "metadata": {},
   "source": [
    "#### A simple DFN"
   ]
  },
  {
   "cell_type": "markdown",
   "id": "fd5670b7-8c1e-4cb3-acb6-7a4189060a35",
   "metadata": {},
   "source": [
    "Given by torch.nn"
   ]
  },
  {
   "cell_type": "code",
   "execution_count": 1,
   "id": "754cae54-69d1-4dde-9932-4becdef93294",
   "metadata": {},
   "outputs": [],
   "source": [
    "import os \n",
    "import torch\n",
    "from torch import nn\n",
    "from torch.utils.data import DataLoader\n",
    "from torchvision import datasets, transforms\n"
   ]
  },
  {
   "cell_type": "code",
   "execution_count": 2,
   "id": "79c75ca2-2401-4c14-9842-a841ea043cee",
   "metadata": {},
   "outputs": [
    {
     "name": "stdout",
     "output_type": "stream",
     "text": [
      "Using cuda device\n"
     ]
    }
   ],
   "source": [
    "# get device for training\n",
    "device = 'cuda' if torch.cuda.is_available() else 'cpu'\n",
    "print('Using {} device'.format(device))"
   ]
  },
  {
   "cell_type": "code",
   "execution_count": 3,
   "id": "60548dcd-2d41-4939-a955-234efea615cc",
   "metadata": {},
   "outputs": [],
   "source": [
    "# Define the Class\n",
    "\n",
    "# https://pytorch.org/docs/stable/generated/torch.nn.Module.html\n",
    "# nn.Module: Base class for all neural network modules.\n",
    "\n",
    "# nn.Linear():in_features, out_features, bias\n",
    "# https://pytorch.org/docs/stable/generated/torch.nn.Linear.html\n",
    "\n",
    "\n",
    "class NeuralNetwork(nn.Module):\n",
    "    def __init__(self):\n",
    "        super(NeuralNetwork, self).__init__()\n",
    "        self.flatten = nn.Flatten()\n",
    "        # calling the model on the inp\n",
    "        self.linear_relu_stack = nn.Sequential(\n",
    "            # input image size\n",
    "            nn.Linear(28*28, 512),\n",
    "            nn.ReLU(),\n",
    "            nn.Linear(512, 512),\n",
    "            nn.ReLU(),\n",
    "            nn.Linear(512, 10),\n",
    "            # output raw predicted values for each class. A softmax is needed to gain the probabilities.\n",
    "            nn.ReLU(),\n",
    "        )\n",
    "        \n",
    "    def forward(self, x):\n",
    "        x = self.flatten(x)\n",
    "        logits = self.linear_relu_stack(x)\n",
    "        return logits"
   ]
  },
  {
   "cell_type": "code",
   "execution_count": 4,
   "id": "b86944c3-96ed-4e62-abb7-093de3daa38b",
   "metadata": {},
   "outputs": [
    {
     "name": "stdout",
     "output_type": "stream",
     "text": [
      "NeuralNetwork(\n",
      "  (flatten): Flatten(start_dim=1, end_dim=-1)\n",
      "  (linear_relu_stack): Sequential(\n",
      "    (0): Linear(in_features=784, out_features=512, bias=True)\n",
      "    (1): ReLU()\n",
      "    (2): Linear(in_features=512, out_features=512, bias=True)\n",
      "    (3): ReLU()\n",
      "    (4): Linear(in_features=512, out_features=10, bias=True)\n",
      "    (5): ReLU()\n",
      "  )\n",
      ")\n"
     ]
    }
   ],
   "source": [
    "# create an instance and move it to the device\n",
    "\n",
    "model = NeuralNetwork().to(device)\n",
    "print(model)"
   ]
  },
  {
   "cell_type": "code",
   "execution_count": 5,
   "id": "66c21ffa-76f1-4466-9fa5-32928af82ab2",
   "metadata": {},
   "outputs": [],
   "source": [
    "# pass a random input data, and it executes the model's forward.\n",
    "X = torch.rand(1, 28, 28, device = device)\n",
    "logits = model(X)"
   ]
  },
  {
   "cell_type": "code",
   "execution_count": 6,
   "id": "0c034197-ba60-48c1-9eaf-7145b785838f",
   "metadata": {},
   "outputs": [
    {
     "data": {
      "text/plain": [
       "tensor([[0.0000, 0.0000, 0.0348, 0.0000, 0.0532, 0.0975, 0.0000, 0.0000, 0.0000,\n",
       "         0.0000]], device='cuda:0', grad_fn=<ReluBackward0>)"
      ]
     },
     "execution_count": 6,
     "metadata": {},
     "output_type": "execute_result"
    }
   ],
   "source": [
    "logits"
   ]
  },
  {
   "cell_type": "code",
   "execution_count": 7,
   "id": "222f2381-c89b-4405-88de-4350f65b97ac",
   "metadata": {},
   "outputs": [
    {
     "name": "stdout",
     "output_type": "stream",
     "text": [
      "Predicted class: tensor([5], device='cuda:0')\n"
     ]
    }
   ],
   "source": [
    "# nn.Softmax: dim: A dimension along which Softmax will be computed (so every slice along dim will sum to 1).\n",
    "# https://pytorch.org/docs/stable/generated/torch.nn.Softmax.html\n",
    "pred_probab = nn.Softmax(dim=1)(logits)\n",
    "pred_probab.argmax(1)\n",
    "# argmax(dim to keep) https://pytorch.org/docs/stable/generated/torch.argmax.html#torch.argmax\n",
    "y_pred = pred_probab.argmax(1)\n",
    "print(f\"Predicted class: {y_pred}\")\n"
   ]
  },
  {
   "cell_type": "markdown",
   "id": "f4dba506-036c-4a30-a402-141e95ed9694",
   "metadata": {},
   "source": [
    "#### Model Layers"
   ]
  },
  {
   "cell_type": "code",
   "execution_count": 8,
   "id": "87eb4a5f-cfb5-4b23-8b45-49e68b5e48af",
   "metadata": {},
   "outputs": [
    {
     "name": "stdout",
     "output_type": "stream",
     "text": [
      "torch.Size([3, 784])\n"
     ]
    }
   ],
   "source": [
    "# flatten layer convert each 2D 28*28 image into a contiguous array of 784 pixel values\n",
    "input_image = torch.rand(3, 28, 28)\n",
    "flatten = nn.Flatten()\n",
    "flat_image = flatten(input_image)\n",
    "print(flat_image.size())"
   ]
  },
  {
   "cell_type": "code",
   "execution_count": 9,
   "id": "679a86cf-3576-4983-8f34-3004b1f723d1",
   "metadata": {},
   "outputs": [
    {
     "name": "stdout",
     "output_type": "stream",
     "text": [
      "torch.Size([3, 20])\n"
     ]
    }
   ],
   "source": [
    "# linear layer is a module that applies a linear transformation on the input and stored weights and biases.\n",
    "layer1 = nn.Linear(in_features=28*28, out_features=20)\n",
    "hidden1 = layer1(flat_image)\n",
    "print(hidden1.size())"
   ]
  },
  {
   "cell_type": "code",
   "execution_count": 10,
   "id": "0ad8ba04-2b0a-4c0b-b453-b4fead7fd4b4",
   "metadata": {},
   "outputs": [
    {
     "name": "stdout",
     "output_type": "stream",
     "text": [
      "Before ReLU: \n",
      "tensor([[-3.1706e-01, -1.5662e-01, -1.3143e-01,  6.7908e-02,  1.5360e-01,\n",
      "         -2.7691e-01,  5.1282e-01, -2.3271e-04, -4.2544e-01, -3.5582e-01,\n",
      "          3.8420e-01, -2.0431e-01,  2.7121e-01, -7.6910e-02, -9.6500e-02,\n",
      "          1.4603e-01,  7.5897e-01, -2.1396e-02, -1.7443e-01,  3.8205e-01],\n",
      "        [-2.4036e-01, -2.6383e-01,  2.5190e-02, -1.6716e-01, -7.1717e-02,\n",
      "         -6.2537e-02,  2.7260e-01, -1.6416e-01, -1.4421e-01, -1.9516e-01,\n",
      "          4.2799e-01, -2.2483e-01, -9.1911e-02,  1.3871e-02,  5.2699e-01,\n",
      "          2.5722e-01,  6.6322e-01, -1.9219e-01, -1.7133e-01,  4.0427e-01],\n",
      "        [-1.1872e-01, -1.7311e-01,  3.1229e-01, -3.7746e-01, -2.4232e-01,\n",
      "         -6.0705e-02,  3.2630e-01, -1.0507e-01, -1.3016e-01, -3.3706e-01,\n",
      "          1.5292e-01, -1.3960e-01,  2.0433e-01,  4.7560e-01,  5.6245e-01,\n",
      "          4.3806e-01,  4.6230e-01,  1.1684e-01,  5.7419e-02,  3.9399e-01]],\n",
      "       grad_fn=<AddmmBackward>)\n",
      "\n",
      "\n",
      "After ReLU: \n",
      "tensor([[0.0000, 0.0000, 0.0000, 0.0679, 0.1536, 0.0000, 0.5128, 0.0000, 0.0000,\n",
      "         0.0000, 0.3842, 0.0000, 0.2712, 0.0000, 0.0000, 0.1460, 0.7590, 0.0000,\n",
      "         0.0000, 0.3821],\n",
      "        [0.0000, 0.0000, 0.0252, 0.0000, 0.0000, 0.0000, 0.2726, 0.0000, 0.0000,\n",
      "         0.0000, 0.4280, 0.0000, 0.0000, 0.0139, 0.5270, 0.2572, 0.6632, 0.0000,\n",
      "         0.0000, 0.4043],\n",
      "        [0.0000, 0.0000, 0.3123, 0.0000, 0.0000, 0.0000, 0.3263, 0.0000, 0.0000,\n",
      "         0.0000, 0.1529, 0.0000, 0.2043, 0.4756, 0.5624, 0.4381, 0.4623, 0.1168,\n",
      "         0.0574, 0.3940]], grad_fn=<ReluBackward0>)\n"
     ]
    }
   ],
   "source": [
    "# No-linear activations will create the complex mappings between the model's inputs and outputs, helping neural networks learn a wide variety of phenomena.\n",
    "# ReLU(z)=max(0, z)\n",
    "print(f\"Before ReLU: \\n{hidden1}\\n\\n\")\n",
    "hidden1 = nn.ReLU()(hidden1)\n",
    "print(f\"After ReLU: \\n{hidden1}\")"
   ]
  },
  {
   "cell_type": "code",
   "execution_count": 11,
   "id": "a45083ae-be42-4877-90f5-dbe00a63c646",
   "metadata": {},
   "outputs": [
    {
     "data": {
      "text/plain": [
       "tensor([[0.0981, 0.0981, 0.1016, 0.0981, 0.1035, 0.1082, 0.0981, 0.0981, 0.0981,\n",
       "         0.0981]], device='cuda:0', grad_fn=<SoftmaxBackward>)"
      ]
     },
     "execution_count": 11,
     "metadata": {},
     "output_type": "execute_result"
    }
   ],
   "source": [
    "## nn.Softmax is the last layer of the neural network which returns logits \n",
    "# logits: raw values in [-infty, infty]\n",
    "softmax = nn.Softmax(dim = 1)\n",
    "pred_probad = softmax(logits)\n",
    "pred_probad"
   ]
  },
  {
   "cell_type": "markdown",
   "id": "9aa02e1f-0d07-458a-816a-952d9426a5d1",
   "metadata": {},
   "source": [
    "#### Model Parameters"
   ]
  },
  {
   "cell_type": "markdown",
   "id": "a09f824e-bf98-4d9f-a4d1-2503ee7164cf",
   "metadata": {},
   "source": [
    "nn.Module automatically tracks all fields defined inside models.\n",
    "\n",
    "accessed by model's parameters() or named_parameters()"
   ]
  },
  {
   "cell_type": "code",
   "execution_count": 12,
   "id": "36436819-0953-4fb1-b9b4-894467104657",
   "metadata": {},
   "outputs": [
    {
     "name": "stdout",
     "output_type": "stream",
     "text": [
      "Model structure:  NeuralNetwork(\n",
      "  (flatten): Flatten(start_dim=1, end_dim=-1)\n",
      "  (linear_relu_stack): Sequential(\n",
      "    (0): Linear(in_features=784, out_features=512, bias=True)\n",
      "    (1): ReLU()\n",
      "    (2): Linear(in_features=512, out_features=512, bias=True)\n",
      "    (3): ReLU()\n",
      "    (4): Linear(in_features=512, out_features=10, bias=True)\n",
      "    (5): ReLU()\n",
      "  )\n",
      ") \n",
      "\n",
      "\n",
      "Layer: linear_relu_stack.0.weight | Size: torch.Size([512, 784])\n",
      "Layer: linear_relu_stack.0.bias | Size: torch.Size([512])\n",
      "Layer: linear_relu_stack.2.weight | Size: torch.Size([512, 512])\n",
      "Layer: linear_relu_stack.2.bias | Size: torch.Size([512])\n",
      "Layer: linear_relu_stack.4.weight | Size: torch.Size([10, 512])\n",
      "Layer: linear_relu_stack.4.bias | Size: torch.Size([10])\n"
     ]
    }
   ],
   "source": [
    "print(\"Model structure: \", model, \"\\n\\n\")\n",
    "\n",
    "for name, param in model.named_parameters():\n",
    "    print(f\"Layer: {name} | Size: {param.size()}\")"
   ]
  },
  {
   "cell_type": "markdown",
   "id": "8ee3262c-e823-4988-bfac-6c65b2f0bd1e",
   "metadata": {
    "tags": []
   },
   "source": [
    "![img_weights](./img/weights.png \"Weights\")"
   ]
  },
  {
   "cell_type": "markdown",
   "id": "0e7eb8cc-e184-4e30-a5ca-3f70a4eef0de",
   "metadata": {},
   "source": [
    "### Differentiation"
   ]
  },
  {
   "cell_type": "markdown",
   "id": "d1ab3f2d-b09d-45a2-a8a4-f26e72a4effc",
   "metadata": {},
   "source": [
    "* Back Propagation are adjusted according to the gradient of the loss function with respect to the given parameter"
   ]
  },
  {
   "cell_type": "code",
   "execution_count": 22,
   "id": "fe7b400a-b6d2-4b2b-8950-d836161384a0",
   "metadata": {},
   "outputs": [],
   "source": [
    "import torch\n",
    "\n",
    "x = torch.ones(5) # input tensor\n",
    "y = torch.zeros(3) # expected output\n",
    "w = torch.randn(5, 3, requires_grad=True) # requires_grad is used to denote parameters to learn\n",
    "b = torch.randn(3, requires_grad=True)\n",
    "z = torch.matmul(x,w)+b\n",
    "loss = torch.nn.functional.binary_cross_entropy_with_logits(z,y)"
   ]
  },
  {
   "cell_type": "code",
   "execution_count": 23,
   "id": "97902729-7893-4b3a-9048-af220032e000",
   "metadata": {},
   "outputs": [
    {
     "name": "stdout",
     "output_type": "stream",
     "text": [
      "Gradient function for z = <AddBackward0 object at 0x7f4902a75310>\n",
      "Gradient function for loss = <BinaryCrossEntropyWithLogitsBackward object at 0x7f4902a75430>\n"
     ]
    }
   ],
   "source": [
    "print('Gradient function for z =', z.grad_fn)\n",
    "print('Gradient function for loss =', loss.grad_fn)"
   ]
  },
  {
   "cell_type": "markdown",
   "id": "34369e38-ad95-410e-a011-f47bfbde6279",
   "metadata": {},
   "source": [
    "#### Computing Gradients"
   ]
  },
  {
   "cell_type": "markdown",
   "id": "f020bb0f-e5aa-45ba-92ea-8e6889a882b5",
   "metadata": {},
   "source": [
    "Compute derivatives of loss function respect to parameters in different layers. "
   ]
  },
  {
   "cell_type": "code",
   "execution_count": 24,
   "id": "d0f2bf96-8f8d-4090-8c26-2890ce70fd19",
   "metadata": {},
   "outputs": [
    {
     "name": "stdout",
     "output_type": "stream",
     "text": [
      "tensor([[0.0372, 0.0525, 0.2464],\n",
      "        [0.0372, 0.0525, 0.2464],\n",
      "        [0.0372, 0.0525, 0.2464],\n",
      "        [0.0372, 0.0525, 0.2464],\n",
      "        [0.0372, 0.0525, 0.2464]])\n",
      "tensor([0.0372, 0.0525, 0.2464])\n"
     ]
    }
   ],
   "source": [
    "loss.backward(retain_graph = True)\n",
    "print(w.grad)\n",
    "print(b.grad)"
   ]
  },
  {
   "cell_type": "markdown",
   "id": "9a409329-7c94-482f-8bef-86a336f6c525",
   "metadata": {},
   "source": [
    "http://galaxy.agh.edu.pl/~vlsi/AI/backp_t_en/backprop.html"
   ]
  },
  {
   "cell_type": "markdown",
   "id": "31e3a255-ac5e-4d22-b8e5-be53342ab0b7",
   "metadata": {},
   "source": [
    "* Gradients will not be available apart from the leaf nodes of the computational graph.\n",
    "\n",
    "* backward() will only perform once. if we need several backward calls, we need to pass retain_graph=True to the backward()"
   ]
  },
  {
   "cell_type": "code",
   "execution_count": 92,
   "id": "5a963169-9a6c-4866-a9d3-c8f19afcfed3",
   "metadata": {},
   "outputs": [
    {
     "name": "stdout",
     "output_type": "stream",
     "text": [
      "tensor([[ 2.5662,  3.6226, 17.0004],\n",
      "        [ 2.5662,  3.6226, 17.0004],\n",
      "        [ 2.5662,  3.6226, 17.0004],\n",
      "        [ 2.5662,  3.6226, 17.0004],\n",
      "        [ 2.5662,  3.6226, 17.0004]])\n",
      "tensor([ 2.5662,  3.6226, 17.0004])\n"
     ]
    }
   ],
   "source": [
    "loss.backward(retain_graph = True)\n",
    "print(w.grad)\n",
    "print(b.grad)"
   ]
  },
  {
   "cell_type": "markdown",
   "id": "bd0e7b98-1459-42fe-a9d5-0a359bb0e6f9",
   "metadata": {},
   "source": [
    "all tensors with require_grad=True are tracking their computational history and support gradient computation.\n",
    "\n",
    "But in some cases, like, with the trained model, there's no need to do back propagation as only forward computations are needed."
   ]
  },
  {
   "cell_type": "code",
   "execution_count": 95,
   "id": "f9f2dd9c-2e95-4342-ad11-1c00e080e1f1",
   "metadata": {},
   "outputs": [
    {
     "name": "stdout",
     "output_type": "stream",
     "text": [
      "True\n",
      "False\n",
      "False\n"
     ]
    }
   ],
   "source": [
    "z = torch.matmul(x, w)+b\n",
    "print(z.requires_grad)\n",
    "\n",
    "with torch.no_grad():\n",
    "    z = torch.matmul(x, w)+b\n",
    "print(z.requires_grad)\n",
    "\n",
    "z = torch.matmul(x, w)+b\n",
    "z_det = z.detach()\n",
    "print(z_det.requires_grad)"
   ]
  },
  {
   "cell_type": "markdown",
   "id": "952cab20-de46-41dc-a64f-164562f1cc0b",
   "metadata": {},
   "source": [
    "Cases to ues:\n",
    "\n",
    "* Funetuning a pretrained network\n",
    "* speed up computations when only doing forward pass, and it will happens on tensors that do not track gradients."
   ]
  },
  {
   "cell_type": "markdown",
   "id": "ebf09ddd-88f6-473e-b63e-60b1c7ca6555",
   "metadata": {},
   "source": [
    "#### More on Computational Graphs"
   ]
  },
  {
   "cell_type": "markdown",
   "id": "12b93124-b9c7-4e36-857a-bc70830442f0",
   "metadata": {},
   "source": [
    "* website:\n",
    "https://youtu.be/MswxJw-8PvE\n"
   ]
  },
  {
   "cell_type": "markdown",
   "id": "2d89b367-6aa2-4151-a888-474dd16005a4",
   "metadata": {},
   "source": [
    "### Optimizing model parameters"
   ]
  },
  {
   "cell_type": "markdown",
   "id": "3d081451-a2b9-45bc-ad16-5a7b30d11ce2",
   "metadata": {},
   "source": [
    "Training a model is an iterative process. Each iteration is called an epoch, during which the model make a guess about the output, calculates the error in its guess(loss).\n",
    "\n",
    "Collect the derivatives of the error with respect to its parameters, and optimizes the parameters using gradient descent."
   ]
  },
  {
   "cell_type": "code",
   "execution_count": 6,
   "id": "b9d0b8f0-3ebd-4fbb-91ae-7e1ef365f135",
   "metadata": {},
   "outputs": [],
   "source": [
    "import torch\n",
    "from torch import nn\n",
    "from torch.utils.data import Dataset, DataLoader\n",
    "from torchvision import datasets\n",
    "from torchvision.transforms import ToTensor, Lambda\n",
    "\n",
    "training_data = datasets.FashionMNIST(\n",
    "    root = \"data\", # show the path where train/test data is stored\n",
    "    train = True, # specify training or test dataset\n",
    "    download = True, # download the data from the internet if it's not available at root\n",
    "    transform = ToTensor() # specify the feature and label transformations\n",
    ")\n",
    "\n",
    "test_data = datasets.FashionMNIST(\n",
    "    root = \"data\", # show the path where train/test data is stored\n",
    "    train = False, # specify training or test dataset\n",
    "    download = True, # download the data from the internet if it's not available at root\n",
    "    transform = ToTensor() # specify the feature and label transformations\n",
    ")\n"
   ]
  },
  {
   "cell_type": "code",
   "execution_count": 7,
   "id": "212f54b6-bafd-4cac-b7e8-a05c7775f032",
   "metadata": {},
   "outputs": [],
   "source": [
    "train_dataloader = DataLoader(training_data, batch_size=64)\n",
    "test_dataloader = DataLoader(test_data, batch_size=64)\n",
    "\n",
    "class NeuralNetwork(nn.Module):\n",
    "    def __init__(self):\n",
    "        super(NeuralNetwork, self).__init__()\n",
    "        self.flatten = nn.Flatten()\n",
    "        self.linear_relu_stack = nn.Sequential(\n",
    "            nn.Linear(28*28, 512),\n",
    "            nn.ReLU(),\n",
    "            nn.Linear(512, 512),\n",
    "            nn.ReLU(),\n",
    "            nn.Linear(512, 10),\n",
    "            nn.ReLU(),\n",
    "        )\n",
    "        \n",
    "    def forward(self, x):\n",
    "        x = self.flatten(x)\n",
    "        logits = self.linear_relu_stack(x)\n",
    "        return logits\n",
    "    \n",
    "\n",
    "model = NeuralNetwork()"
   ]
  },
  {
   "cell_type": "markdown",
   "id": "3e8302eb-08d8-4ac3-b5b7-4f7b129150b8",
   "metadata": {
    "tags": []
   },
   "source": [
    "#### Hyperparameters"
   ]
  },
  {
   "cell_type": "markdown",
   "id": "796be712-0754-4969-a2c5-f33b6ca1a1d9",
   "metadata": {},
   "source": [
    "What:\n",
    "\n",
    "Hyperparameters are ajustable parameters that let you control the model optimization process.\n",
    "(impact model training and convergence rates)\n",
    "\n",
    "* Number of Epochs: the number of times to iterate over the dataset\n",
    "* Batch Size: the number of data samples propagated through the network before the parameters are updated\n",
    "* Learning Rate: how much to update models parameters at each batch/epoch. Smaller values yield slow learning speed, while may result in unpredictable behavior during training.\n",
    "\n"
   ]
  },
  {
   "cell_type": "code",
   "execution_count": 8,
   "id": "bc5c232b-40ba-4ea9-b96b-200100dff425",
   "metadata": {},
   "outputs": [],
   "source": [
    "learning_rate = 1e-3\n",
    "batch_size = 64\n",
    "epochs = 5"
   ]
  },
  {
   "cell_type": "markdown",
   "id": "f5350ea9-8bbc-45df-8f4e-46224beda221",
   "metadata": {},
   "source": [
    "#### Optimization Loop"
   ]
  },
  {
   "cell_type": "markdown",
   "id": "9390f1fe-6280-48a6-9631-4373c24b5490",
   "metadata": {},
   "source": [
    "Each iteration of the optimization loop is called an epoch. \n",
    "\n",
    "Each epoch consists of two main parts:\n",
    "* The Train Loop: iterate over the training dataset and try to converge to optimal parameters\n",
    "* The Validation/Test Loop: iterate over the test dataset to check if model performance is improving\n"
   ]
  },
  {
   "cell_type": "markdown",
   "id": "b0acf091-58db-4696-925a-8590a9d7a5fd",
   "metadata": {},
   "source": [
    "#### Loss Function"
   ]
  },
  {
   "cell_type": "markdown",
   "id": "19650a2b-5d17-4490-bfcd-ea7881499e73",
   "metadata": {},
   "source": [
    "Measure the degree of dissimilarity of obtained result with the target value."
   ]
  },
  {
   "cell_type": "code",
   "execution_count": 9,
   "id": "ae8be5b6-6d3c-4ce6-9665-29913546eaa7",
   "metadata": {},
   "outputs": [],
   "source": [
    "loss_fn = nn.CrossEntropyLoss()"
   ]
  },
  {
   "cell_type": "markdown",
   "id": "e0fb9040-a4cd-4264-9940-2f6604b43de9",
   "metadata": {},
   "source": [
    "#### Optimizer"
   ]
  },
  {
   "cell_type": "markdown",
   "id": "ea3dd86a-b43f-4fb0-9472-5ceb46b3c224",
   "metadata": {},
   "source": [
    "Optimization is the process of adjusting model parameters to reduce model error in each training step.\n",
    "\n",
    "Optimization algorithms(like Stochastic Gradient Descent) defines how this process is performed.\n",
    "\n",
    "Different Optimizers such as ADAM and RMSProp that work better for different kinds of models and data."
   ]
  },
  {
   "cell_type": "code",
   "execution_count": null,
   "id": "53109abe-70ae-4bb2-9ef4-27e530251cc6",
   "metadata": {},
   "outputs": [],
   "source": []
  }
 ],
 "metadata": {
  "kernelspec": {
   "display_name": "DL",
   "language": "python",
   "name": "dl"
  },
  "language_info": {
   "codemirror_mode": {
    "name": "ipython",
    "version": 3
   },
   "file_extension": ".py",
   "mimetype": "text/x-python",
   "name": "python",
   "nbconvert_exporter": "python",
   "pygments_lexer": "ipython3",
   "version": "3.8.10"
  }
 },
 "nbformat": 4,
 "nbformat_minor": 5
}
