{
 "cells": [
  {
   "cell_type": "markdown",
   "id": "c62cbab2-d407-4864-a075-0ee77e4cd5bf",
   "metadata": {},
   "source": [
    "# A tutorial notes for Pytorch\n"
   ]
  },
  {
   "cell_type": "markdown",
   "id": "3a42d54b-7a52-4d9d-a3c4-482dd0f5b17a",
   "metadata": {},
   "source": [
    "References:\n",
    "1. https://pytorch.org/tutorials/beginner/basics/intro.html\n"
   ]
  },
  {
   "cell_type": "markdown",
   "id": "bbb19d4c-fc57-46a0-8b3b-814ce3638d78",
   "metadata": {},
   "source": [
    "## introduction"
   ]
  },
  {
   "cell_type": "markdown",
   "id": "33e6c9a2-7f6a-41b3-90ce-37cd918ef4f7",
   "metadata": {},
   "source": [
    "A introduction about the basics"
   ]
  },
  {
   "cell_type": "markdown",
   "id": "f4a20ede-d1b6-43ef-a755-ada2a8e5bfb3",
   "metadata": {},
   "source": [
    "### Tensors"
   ]
  },
  {
   "cell_type": "markdown",
   "id": "d6defad5-fd7c-43c4-9efb-8ee2d5760329",
   "metadata": {},
   "source": [
    "what: \n",
    "\n",
    "A data structure to encode the inputs, outputs, and parameters of a model, which is similar to arrays and matrices.\n",
    "\n",
    "why: \n",
    "1. Tensors can run on GPUs or other hardware accelerators.\n",
    "2. Tensors share the same underlying memory with Numpy array, eliminating the need to copy data\n",
    "3. Tensors are optimized for automatic differentiation."
   ]
  },
  {
   "cell_type": "code",
   "execution_count": 2,
   "id": "c31d41bd-3938-42b2-86bf-bc3b760217e9",
   "metadata": {},
   "outputs": [],
   "source": [
    "import torch\n",
    "import numpy as np"
   ]
  },
  {
   "cell_type": "markdown",
   "id": "4719cb73-dd7a-4534-9510-0a6b4258c188",
   "metadata": {},
   "source": [
    "#### Initalize a tensor"
   ]
  },
  {
   "cell_type": "code",
   "execution_count": 2,
   "id": "8338a661-990f-4885-9499-38a2cb0e896d",
   "metadata": {},
   "outputs": [],
   "source": [
    "# from data\n",
    "data = [[1,2],[3,4]]\n",
    "x_data = torch.tensor(data)"
   ]
  },
  {
   "cell_type": "code",
   "execution_count": 3,
   "id": "3984010e-54b8-431e-9ea9-4affa96cdf16",
   "metadata": {},
   "outputs": [
    {
     "data": {
      "text/plain": [
       "tensor([[1, 2],\n",
       "        [3, 4]])"
      ]
     },
     "execution_count": 3,
     "metadata": {},
     "output_type": "execute_result"
    }
   ],
   "source": [
    "x_data"
   ]
  },
  {
   "cell_type": "code",
   "execution_count": 5,
   "id": "817b016f-5b9f-46d4-93bf-5e61851e9e40",
   "metadata": {},
   "outputs": [],
   "source": [
    "# from a Numpy array\n",
    "np_array = np.array(data)\n",
    "x_np = torch.from_numpy(np_array)"
   ]
  },
  {
   "cell_type": "code",
   "execution_count": 6,
   "id": "a0a7a848-6b2a-4475-95d6-a85f47be51ca",
   "metadata": {},
   "outputs": [
    {
     "data": {
      "text/plain": [
       "tensor([[1, 2],\n",
       "        [3, 4]])"
      ]
     },
     "execution_count": 6,
     "metadata": {},
     "output_type": "execute_result"
    }
   ],
   "source": [
    "x_np"
   ]
  },
  {
   "cell_type": "code",
   "execution_count": 8,
   "id": "76026ad4-4061-4a29-a240-583d8bce2615",
   "metadata": {},
   "outputs": [
    {
     "name": "stdout",
     "output_type": "stream",
     "text": [
      "Ones Tensor: \n",
      " tensor([[1, 1],\n",
      "        [1, 1]])\n",
      "\n",
      "Ones Tensor: \n",
      " tensor([[0.7721, 0.0448],\n",
      "        [0.3881, 0.6359]])\n",
      "\n"
     ]
    }
   ],
   "source": [
    "# from another tensor, which keeps shape, datatype unless explicitly overridden.\n",
    "\n",
    "# retain the properties of x_data\n",
    "x_ones = torch.ones_like(x_data)\n",
    "print(f\"Ones Tensor: \\n {x_ones}\\n\")\n",
    "\n",
    "# overrides the datatype of x_data\n",
    "x_rand = torch.rand_like(x_data, dtype = torch.float) \n",
    "print(f\"Ones Tensor: \\n {x_rand}\\n\")"
   ]
  },
  {
   "cell_type": "code",
   "execution_count": 12,
   "id": "340763b3-31b2-4d6d-9a46-15cba78ec00c",
   "metadata": {},
   "outputs": [
    {
     "name": "stdout",
     "output_type": "stream",
     "text": [
      "Random Tensor: \n",
      " tensor([[0.2999, 0.4976, 0.9669],\n",
      "        [0.3437, 0.3316, 0.7742]]) \n",
      "\n",
      "Ones Tensor: \n",
      " tensor([[1., 1., 1.],\n",
      "        [1., 1., 1.]]) \n",
      "\n",
      "Random Tensor: \n",
      " tensor([[0., 0., 0.],\n",
      "        [0., 0., 0.]]) \n",
      "\n"
     ]
    }
   ],
   "source": [
    "# with shape \n",
    "shape = (2,3,)\n",
    "rand_tensor = torch.rand(shape)\n",
    "ones_tensor = torch.ones(shape)\n",
    "zeros_tensor = torch.zeros(shape)\n",
    "\n",
    "print(f\"Random Tensor: \\n {rand_tensor} \\n\")\n",
    "print(f\"Ones Tensor: \\n {ones_tensor} \\n\")\n",
    "print(f\"Random Tensor: \\n {zeros_tensor} \\n\")\n"
   ]
  },
  {
   "cell_type": "code",
   "execution_count": 14,
   "id": "903297a8-52db-4ca7-8649-d19961e728c3",
   "metadata": {},
   "outputs": [
    {
     "name": "stdout",
     "output_type": "stream",
     "text": [
      "Shape of tensor:torch.Size([3, 4])\n",
      "Datatype of tensor:torch.float32\n",
      "Device tensor is stored on:cpu\n"
     ]
    }
   ],
   "source": [
    "# attributes\n",
    "tensor = torch.rand(3,4)\n",
    "\n",
    "print(f\"Shape of tensor:{tensor.shape}\")\n",
    "print(f\"Datatype of tensor:{tensor.dtype}\")\n",
    "print(f\"Device tensor is stored on:{tensor.device}\")"
   ]
  },
  {
   "cell_type": "markdown",
   "id": "1c1ec237-255d-4185-88ea-ef1045c4ed90",
   "metadata": {},
   "source": [
    "By default, tensors are created on the CPU.\n",
    "\n",
    "Copying large tensors across devices can be expensive in terms of time and memory!"
   ]
  },
  {
   "cell_type": "code",
   "execution_count": 15,
   "id": "b4be5354-e6ac-487e-8fe4-ce81686bdfd5",
   "metadata": {},
   "outputs": [],
   "source": [
    "if torch.cuda.is_available():\n",
    "    tensor = tensor.to('cuda')"
   ]
  },
  {
   "cell_type": "code",
   "execution_count": 18,
   "id": "2c313415-4e6f-4bd7-88de-be0dfc85ea09",
   "metadata": {},
   "outputs": [
    {
     "data": {
      "text/plain": [
       "device(type='cuda', index=0)"
      ]
     },
     "execution_count": 18,
     "metadata": {},
     "output_type": "execute_result"
    }
   ],
   "source": [
    "tensor.device"
   ]
  },
  {
   "cell_type": "code",
   "execution_count": 32,
   "id": "bccc1d22-d0de-4223-a56b-200808ce32b0",
   "metadata": {},
   "outputs": [
    {
     "name": "stdout",
     "output_type": "stream",
     "text": [
      "t: tensor([1., 1., 1., 1., 1.])\n",
      "n: [1. 1. 1. 1. 1.]\n"
     ]
    }
   ],
   "source": [
    "# bridge with Numpy (share the memory)\n",
    "t = torch.ones(5)\n",
    "print(f\"t: {t}\")\n",
    "n = t.numpy()\n",
    "print(f\"n: {n}\")"
   ]
  },
  {
   "cell_type": "code",
   "execution_count": 33,
   "id": "59fe2dd3-0813-4d96-94c5-3b0d7f42d74b",
   "metadata": {},
   "outputs": [
    {
     "name": "stdout",
     "output_type": "stream",
     "text": [
      "t: tensor([2., 2., 2., 2., 2.])\n",
      "n: [2. 2. 2. 2. 2.]\n"
     ]
    }
   ],
   "source": [
    "t.add_(1)\n",
    "print(f\"t: {t}\")\n",
    "print(f\"n: {n}\")"
   ]
  },
  {
   "cell_type": "code",
   "execution_count": 34,
   "id": "d4fb1752-f9fa-4713-9376-1d85d5d643b7",
   "metadata": {},
   "outputs": [
    {
     "name": "stdout",
     "output_type": "stream",
     "text": [
      "t: tensor([2., 2., 2., 2., 2.], dtype=torch.float64)\n",
      "n: [2. 2. 2. 2. 2.]\n"
     ]
    }
   ],
   "source": [
    "# same for (numpy->torch tensor)\n",
    "n = np.ones(5)\n",
    "t = torch.from_numpy(n)\n",
    "\n",
    "np.add(n,1,out=n)\n",
    "print(f\"t: {t}\")\n",
    "print(f\"n: {n}\")"
   ]
  },
  {
   "cell_type": "markdown",
   "id": "634eee44-86bc-4585-b610-9e0ac623d685",
   "metadata": {},
   "source": [
    "#### Operations"
   ]
  },
  {
   "cell_type": "code",
   "execution_count": 22,
   "id": "88e8a167-c1b5-42ac-baf1-1423b410b692",
   "metadata": {},
   "outputs": [
    {
     "name": "stdout",
     "output_type": "stream",
     "text": [
      "First row:  tensor([1., 1., 1., 1.])\n",
      "First column:  tensor([1., 1., 1., 1.])\n",
      "Last column:  tensor([1., 1., 1., 1.])\n",
      "tensor([[1., 1., 1., 0.],\n",
      "        [1., 1., 1., 0.],\n",
      "        [1., 1., 1., 0.],\n",
      "        [1., 1., 1., 0.]])\n"
     ]
    }
   ],
   "source": [
    "tensor = torch.ones(4,4)\n",
    "print('First row: ', tensor[0])\n",
    "print('First column: ', tensor[:, 0])\n",
    "print('Last column: ' , tensor[...,-1])\n",
    "tensor[:, -1] = 0\n",
    "print(tensor)"
   ]
  },
  {
   "cell_type": "code",
   "execution_count": 23,
   "id": "2ec189d5-f4de-490d-87c9-3f6851d30d65",
   "metadata": {},
   "outputs": [
    {
     "name": "stdout",
     "output_type": "stream",
     "text": [
      "tensor([[1., 1., 1., 0., 1., 1., 1., 0., 1., 1., 1., 0.],\n",
      "        [1., 1., 1., 0., 1., 1., 1., 0., 1., 1., 1., 0.],\n",
      "        [1., 1., 1., 0., 1., 1., 1., 0., 1., 1., 1., 0.],\n",
      "        [1., 1., 1., 0., 1., 1., 1., 0., 1., 1., 1., 0.]])\n"
     ]
    }
   ],
   "source": [
    "# Joining tensors\n",
    "t1 = torch.cat([tensor,tensor,tensor], dim = 1)\n",
    "print(t1)"
   ]
  },
  {
   "cell_type": "code",
   "execution_count": 27,
   "id": "016dfcb7-4e5b-4f67-9920-71375649b74c",
   "metadata": {},
   "outputs": [
    {
     "name": "stdout",
     "output_type": "stream",
     "text": [
      "y1: \n",
      "tensor([[3., 3., 3., 3.],\n",
      "        [3., 3., 3., 3.],\n",
      "        [3., 3., 3., 3.],\n",
      "        [3., 3., 3., 3.]])\n",
      "\n",
      "y2: \n",
      "tensor([[3., 3., 3., 3.],\n",
      "        [3., 3., 3., 3.],\n",
      "        [3., 3., 3., 3.],\n",
      "        [3., 3., 3., 3.]])\n",
      "\n",
      "y3: \n",
      "tensor([[3., 3., 3., 3.],\n",
      "        [3., 3., 3., 3.],\n",
      "        [3., 3., 3., 3.],\n",
      "        [3., 3., 3., 3.]])\n",
      "\n"
     ]
    }
   ],
   "source": [
    "# arithmetic operations\n",
    "# y1 = y2 = y3\n",
    "y1 = tensor @ tensor.T\n",
    "y2 = tensor.matmul(tensor.T)\n",
    "y3 = torch.rand_like(tensor)\n",
    "torch.matmul(tensor,tensor.T,out=y3)\n",
    "# matrix multiplication\n",
    "print(f'y1: \\n{y1}\\n')\n",
    "print(f'y2: \\n{y2}\\n')\n",
    "print(f'y3: \\n{y3}\\n')"
   ]
  },
  {
   "cell_type": "code",
   "execution_count": 28,
   "id": "5f643e0e-1c79-467e-a73f-ca1e637ccb8f",
   "metadata": {},
   "outputs": [
    {
     "data": {
      "text/plain": [
       "tensor([[1., 1., 1., 0.],\n",
       "        [1., 1., 1., 0.],\n",
       "        [1., 1., 1., 0.],\n",
       "        [1., 1., 1., 0.]])"
      ]
     },
     "execution_count": 28,
     "metadata": {},
     "output_type": "execute_result"
    }
   ],
   "source": [
    "# element-wise product\n",
    "# z1, z2, z3 have the same value\n",
    "z1 = tensor * tensor\n",
    "\n",
    "z2 = tensor.mul(tensor)\n",
    "\n",
    "z3 = torch.rand_like(tensor)\n",
    "torch.mul(tensor,tensor,out=z3)"
   ]
  },
  {
   "cell_type": "code",
   "execution_count": 29,
   "id": "a57dce5b-462e-47e0-869e-8d081ee2fc61",
   "metadata": {},
   "outputs": [
    {
     "data": {
      "text/plain": [
       "tensor(12.)"
      ]
     },
     "execution_count": 29,
     "metadata": {},
     "output_type": "execute_result"
    }
   ],
   "source": [
    "# single-element\n",
    "agg = tensor.sum()\n",
    "agg"
   ]
  },
  {
   "cell_type": "code",
   "execution_count": 30,
   "id": "fca9cd1e-216c-4a77-9e87-b10a073725de",
   "metadata": {},
   "outputs": [
    {
     "name": "stdout",
     "output_type": "stream",
     "text": [
      "12.0 <class 'float'>\n"
     ]
    }
   ],
   "source": [
    "# to python numerical value\n",
    "print(agg.item(), type(agg.item()))"
   ]
  },
  {
   "cell_type": "code",
   "execution_count": 31,
   "id": "883e56a5-2005-4351-a2ef-8841fe3146ae",
   "metadata": {},
   "outputs": [
    {
     "name": "stdout",
     "output_type": "stream",
     "text": [
      "tensor([[1., 1., 1., 0.],\n",
      "        [1., 1., 1., 0.],\n",
      "        [1., 1., 1., 0.],\n",
      "        [1., 1., 1., 0.]]) \n",
      "\n",
      "tensor([[6., 6., 6., 5.],\n",
      "        [6., 6., 6., 5.],\n",
      "        [6., 6., 6., 5.],\n",
      "        [6., 6., 6., 5.]])\n"
     ]
    }
   ],
   "source": [
    "# in-place operations denoted by _suffix\n",
    "print(tensor,\"\\n\")\n",
    "tensor.add_(5)\n",
    "print(tensor)"
   ]
  },
  {
   "cell_type": "markdown",
   "id": "4755d453-6933-46d3-8ffe-f53c13be41d2",
   "metadata": {},
   "source": [
    "In-place can save memory, but immediate loss of history will bring troubles in computing derivatives."
   ]
  },
  {
   "cell_type": "markdown",
   "id": "88155093-0f0d-4873-a3a9-821c3a497a59",
   "metadata": {},
   "source": [
    "### Datasets & DataLoaders"
   ]
  },
  {
   "cell_type": "markdown",
   "id": "54970498-c4fd-433e-a6b7-e5fdf4be6630",
   "metadata": {},
   "source": [
    "What:\n",
    "\n",
    "Dataset: it stores the samples and their corresponding labels.\n",
    "\n",
    "DataLoader: it wraps an iterable around the Dataset to enable easy access to the samples. \n",
    "\n",
    "Why:\n",
    "\n",
    "1. Maintain code for processing data by decoupling it from model training code to provide better readability and modularity.\n",
    "2. PyTorch domain libraries provide a number of pre-loaded datasets and functions, which can be accessed by Datasets and DataLoaders."
   ]
  },
  {
   "cell_type": "markdown",
   "id": "b899cedc-e3de-4a68-b174-b6790057cbb3",
   "metadata": {},
   "source": [
    "#### Load a dataset"
   ]
  },
  {
   "cell_type": "code",
   "execution_count": 1,
   "id": "40e28d43-ac04-4a93-a2d1-5d6dbdd5af13",
   "metadata": {
    "tags": []
   },
   "outputs": [],
   "source": [
    "import torch\n",
    "# FashionMNIST Dataset\n",
    "from torch.utils.data import Dataset\n",
    "from torchvision import datasets\n",
    "from torchvision.transforms import ToTensor\n",
    "import matplotlib.pyplot as plt\n",
    "\n",
    "training_data = datasets.FashionMNIST(\n",
    "    root = \"data\", # show the path where train/test data is stored\n",
    "    train = True, # specify training or test dataset\n",
    "    download = True, # download the data from the internet if it's not available at root\n",
    "    transform = ToTensor() # specify the feature and label transformations\n",
    ")\n",
    "\n",
    "test_data = datasets.FashionMNIST(\n",
    "    root = \"data\", # show the path where train/test data is stored\n",
    "    train = False, # specify training or test dataset\n",
    "    download = True, # download the data from the internet if it's not available at root\n",
    "    transform = ToTensor() # specify the feature and label transformations\n",
    ")\n"
   ]
  },
  {
   "cell_type": "code",
   "execution_count": 45,
   "id": "f748aec0-2a46-4ce1-8f26-949291a16c15",
   "metadata": {
    "tags": []
   },
   "outputs": [],
   "source": [
    "img, label = training_data[2]"
   ]
  },
  {
   "cell_type": "code",
   "execution_count": 47,
   "id": "fbb34433-1c98-4fbd-9b38-a538e49b9468",
   "metadata": {},
   "outputs": [
    {
     "data": {
      "text/plain": [
       "torch.Size([1, 28, 28])"
      ]
     },
     "execution_count": 47,
     "metadata": {},
     "output_type": "execute_result"
    }
   ],
   "source": [
    "img.shape"
   ]
  },
  {
   "cell_type": "code",
   "execution_count": 51,
   "id": "a6eb4a30-ab16-4d96-bc47-7547e22a67b4",
   "metadata": {
    "tags": []
   },
   "outputs": [
    {
     "data": {
      "text/plain": [
       "torch.Size([28, 28])"
      ]
     },
     "execution_count": 51,
     "metadata": {},
     "output_type": "execute_result"
    }
   ],
   "source": [
    "# https://pytorch.org/docs/stable/generated/torch.squeeze.html\n",
    "img.squeeze().shape # Returns a tensor with all the dimensions of input of size 1 removed."
   ]
  },
  {
   "cell_type": "code",
   "execution_count": 49,
   "id": "641c893d-dab5-4463-a140-6f6cea21097f",
   "metadata": {},
   "outputs": [
    {
     "data": {
      "text/plain": [
       "0"
      ]
     },
     "execution_count": 49,
     "metadata": {},
     "output_type": "execute_result"
    }
   ],
   "source": [
    "label"
   ]
  },
  {
   "cell_type": "markdown",
   "id": "316fff5f-dd49-4951-acc7-d4c51c358935",
   "metadata": {},
   "source": [
    "#### visualize by map"
   ]
  },
  {
   "cell_type": "code",
   "execution_count": 2,
   "id": "615e23dd-6cff-48cc-ad1a-c7f4452ae67a",
   "metadata": {
    "tags": []
   },
   "outputs": [
    {
     "data": {
      "image/png": "[encoded data removed]",
      "text/plain": [
       "<Figure size 576x576 with 9 Axes>"
      ]
     },
     "metadata": {
      "needs_background": "light"
     },
     "output_type": "display_data"
    }
   ],
   "source": [
    "labels_map = {\n",
    "    0:\"T-Shirt\",\n",
    "    1:\"Trouser\",\n",
    "    2:\"Pullover\",\n",
    "    3:\"Dress\",\n",
    "    4:\"Coat\",\n",
    "    5:\"Sandal\",\n",
    "    6:\"Shirt\",\n",
    "    7:\"Sneaker\",\n",
    "    8:\"Bag\",\n",
    "    9:\"Ankle Boot\",\n",
    "}\n",
    "\n",
    "figure = plt.figure(figsize=(8,8))\n",
    "cols, rows = 3, 3\n",
    "for i in range(1, cols*rows + 1):\n",
    "    sample_idx = torch.randint(len(training_data), size=(1,)).item() # generate a sample index ranging from [0, len(training_data)) randomly.\n",
    "    img, label = training_data[sample_idx] # select a random training sample based on id above.\n",
    "    figure.add_subplot(rows, cols, i) # i -> for-loop starts from index 1.\n",
    "    plt.title(labels_map[label])\n",
    "    plt.axis('off')\n",
    "    plt.imshow(img.squeeze(), cmap='gray') # channel one is unneccessary when it comes to displaying.\n",
    "plt.show()"
   ]
  },
  {
   "cell_type": "markdown",
   "id": "4f8c7154-fac0-4f1a-b6d1-e6638572c78d",
   "metadata": {},
   "source": [
    "#### Create a custom dataset"
   ]
  },
  {
   "cell_type": "markdown",
   "id": "67c65d86-0966-4789-93ca-3bb52e3024fe",
   "metadata": {},
   "source": [
    "Dataset class must implement three functions: __init__, __len__, and __getitem__."
   ]
  },
  {
   "cell_type": "code",
   "execution_count": null,
   "id": "a70d35c6-989c-43db-b38d-79e2eb51fee9",
   "metadata": {},
   "outputs": [],
   "source": [
    "import os\n",
    "import pandas as pd\n",
    "from torchvision.io import read_image\n",
    "\n",
    "# by torch.util.data.Dataset\n",
    "class CustomImageDataset(Dataset):\n",
    "    # initialize a dataset object with directory containing the images, the annotations file, and both transforms.\n",
    "    def __init__(self, annotations_file, img_dir, transform = None, target_transform=None):\n",
    "        # csv files contains annotations seperated by ',' \n",
    "        # like \n",
    "        # tshirt1.jpg, 0\n",
    "        # tshirt2.jpg, 0\n",
    "        # ...\n",
    "        # ankleboot99.jpg, 9\n",
    "        # the first is image's annotation, and the second is its corresponding label idx.\n",
    "        self.img_labels = pd.read_csv(annotations_file) \n",
    "        self.img_dir = img_dir\n",
    "        self.transform = transform\n",
    "        self.target_transform = target_transform\n",
    "    \n",
    "    # the __len__ function returns the number of samples in dataset.\n",
    "    def __len__(self):\n",
    "        return len(self.img_labels)\n",
    "    \n",
    "    # the __getitem__ function loads and returns a sample from the dataset at the given index idx.\n",
    "    def __getitem__(self, idx):\n",
    "        # locate a image by joining the file' annotation and its parent.\n",
    "        img_path = os.path.join(self.img_dir, self.img_labels.iloc[idx, 0])\n",
    "        # torchvision.io.read_image converts the image to a tensor.\n",
    "        image = read_image(img_path)\n",
    "        # retrieve the image's corresponding label.\n",
    "        label = self.img_labels.iloc[idx, 1]\n",
    "        # if applicable, call the transform functions on the image and the label.\n",
    "        if self.transform:\n",
    "            image = self.transform(image)\n",
    "        if self.target_transform:\n",
    "            label = self.target_transform(label)\n",
    "        return image, label\n",
    "    \n",
    "        "
   ]
  },
  {
   "cell_type": "markdown",
   "id": "dd470f34-ceee-4c42-a1c4-0f2db2ccc1af",
   "metadata": {},
   "source": [
    "* Typically, when training a model, we want to pass samples in \"minibatches\", reshuffle the data at every epoch to reduce model overfitting, and \n",
    "  use Python's multiprocessing to speed up data retrieval.\n",
    "\n",
    "* Compared with torch.util.dataDataset retrieving dataset's features and labels one sample at a time, torch.util.data.DataLoader is an iterable that provides an easy-to-use\n",
    "  \"minibatches\" way and abstracts this complexity."
   ]
  },
  {
   "cell_type": "code",
   "execution_count": null,
   "id": "f240c8a9-481b-405b-8bd0-bb65b5f9c562",
   "metadata": {},
   "outputs": [],
   "source": [
    "from torch.utils.data import DataLoader\n",
    "\n",
    "train_dataloader = DataLoader(training_data)"
   ]
  }
 ],
 "metadata": {
  "kernelspec": {
   "display_name": "DL",
   "language": "python",
   "name": "dl"
  },
  "language_info": {
   "codemirror_mode": {
    "name": "ipython",
    "version": 3
   },
   "file_extension": ".py",
   "mimetype": "text/x-python",
   "name": "python",
   "nbconvert_exporter": "python",
   "pygments_lexer": "ipython3",
   "version": "3.8.10"
  }
 },
 "nbformat": 4,
 "nbformat_minor": 5
}
